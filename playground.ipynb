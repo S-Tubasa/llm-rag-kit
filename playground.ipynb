{
 "cells": [
  {
   "cell_type": "code",
   "execution_count": null,
   "metadata": {},
   "outputs": [],
   "source": [
    "from datasets import load_dataset\n",
    "import json\n",
    "\n",
    "target_ds = load_dataset(\"singletongue/wikipedia-utils\", \"passages-c400-jawiki-20230403\", split=\"train\")\n",
    "\n",
    "jsonl_path = 'wikipedia_passages_c400_jawiki_20230403.jsonl'\n",
    "with open(jsonl_path, 'w', encoding='utf-8') as f:\n",
    "    count = 0\n",
    "    for item in target_ds:\n",
    "        if count < 1025:\n",
    "            json.dump(item, f, ensure_ascii=False)\n",
    "            f.write('\\n')\n",
    "            count += 1\n",
    "        else:\n",
    "            break"
   ]
  },
  {
   "cell_type": "code",
   "execution_count": null,
   "metadata": {},
   "outputs": [],
   "source": [
    "from datasets import load_dataset\n",
    "\n",
    "target_ds = load_dataset('json', data_files=\"wikipedia_passages_c400_jawiki_20230403.jsonl\", split=\"train\")\n",
    "\n",
    "for item in target_ds:\n",
    "    print(item)"
   ]
  },
  {
   "cell_type": "code",
   "execution_count": null,
   "metadata": {},
   "outputs": [],
   "source": [
    "from sentence_transformers import SentenceTransformer\n",
    "from hf_hub_ctranslate2 import CT2SentenceTransformer\n",
    "\n",
    "\n",
    "MODEL = CT2SentenceTransformer(\"/home/ubuntu/llm-rag-kit/multilingual-e5-large\", compute_type=\"float16\")"
   ]
  },
  {
   "cell_type": "code",
   "execution_count": null,
   "metadata": {},
   "outputs": [],
   "source": [
    "from datasets.download import DownloadManager\n",
    "from datasets import load_dataset\n",
    "from sentence_transformers import SentenceTransformer\n",
    "import faiss"
   ]
  },
  {
   "cell_type": "code",
   "execution_count": null,
   "metadata": {},
   "outputs": [],
   "source": [
    "# データセットのロード\n",
    "wikija_dataset = load_dataset('json', data_files=\"wikipedia_passages_c400_jawiki_20230403.jsonl\", split=\"train\")\n",
    "index_local_path = \"./outputs/faiss_indexes/multilingual-e5-large-passage/index_IVF256_PQ64.faiss\"\n",
    "# faiss index のロード\n",
    "faiss_index = faiss.read_index(index_local_path)"
   ]
  },
  {
   "cell_type": "code",
   "execution_count": null,
   "metadata": {},
   "outputs": [],
   "source": [
    "model = SentenceTransformer(\"/home/ubuntu/llm-rag-kit/multilingual-e5-large\")\n",
    "model.max_seq_length = 512"
   ]
  },
  {
   "cell_type": "code",
   "execution_count": null,
   "metadata": {},
   "outputs": [],
   "source": [
    "def to_emb(model, text, prefix=\"query: \"):\n",
    "    return model.encode([prefix + text], normalize_embeddings=True)\n",
    "\n",
    "\n",
    "emb = to_emb(model, \"OpenAIに関して教えて?\")"
   ]
  },
  {
   "cell_type": "code",
   "execution_count": null,
   "metadata": {},
   "outputs": [],
   "source": [
    "TOP_K = 5\n",
    "scores, indexes = faiss_index.search(emb, TOP_K)\n",
    "for idx, (id, score) in enumerate(zip(indexes[0], scores[0])):\n",
    "    data = wikija_dataset[int(id)]\n",
    "    print((score, data[\"title\"], data[\"text\"][:100]))"
   ]
  },
  {
   "cell_type": "markdown",
   "metadata": {},
   "source": [
    "poetry run streamlit run app.py"
   ]
  }
 ],
 "metadata": {
  "kernelspec": {
   "display_name": "llm-rag-kit-2uEd5D3k-py3.10",
   "language": "python",
   "name": "python3"
  },
  "language_info": {
   "codemirror_mode": {
    "name": "ipython",
    "version": 3
   },
   "file_extension": ".py",
   "mimetype": "text/x-python",
   "name": "python",
   "nbconvert_exporter": "python",
   "pygments_lexer": "ipython3",
   "version": "3.10.12"
  }
 },
 "nbformat": 4,
 "nbformat_minor": 2
}
