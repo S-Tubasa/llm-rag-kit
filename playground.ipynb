{
 "cells": [
  {
   "cell_type": "code",
   "execution_count": 1,
   "metadata": {},
   "outputs": [
    {
     "name": "stderr",
     "output_type": "stream",
     "text": [
      "/home/ubuntu/.cache/pypoetry/virtualenvs/llm-rag-kit-2uEd5D3k-py3.10/lib/python3.10/site-packages/tqdm/auto.py:21: TqdmWarning: IProgress not found. Please update jupyter and ipywidgets. See https://ipywidgets.readthedocs.io/en/stable/user_install.html\n",
      "  from .autonotebook import tqdm as notebook_tqdm\n"
     ]
    }
   ],
   "source": [
    "from datasets import load_dataset\n",
    "import json\n",
    "\n",
    "target_ds = load_dataset(\"singletongue/wikipedia-utils\", \"passages-c400-jawiki-20230403\", split=\"train\")\n",
    "\n",
    "jsonl_path = 'wikipedia_passages_c400_jawiki_20230403.jsonl'\n",
    "with open(jsonl_path, 'w', encoding='utf-8') as f:\n",
    "    count = 0\n",
    "    for item in target_ds:\n",
    "        if count < 1025:\n",
    "            json.dump(item, f, ensure_ascii=False)\n",
    "            f.write('\\n')\n",
    "            count += 1\n",
    "        else:\n",
    "            break"
   ]
  },
  {
   "cell_type": "code",
   "execution_count": 5,
   "metadata": {},
   "outputs": [
    {
     "name": "stderr",
     "output_type": "stream",
     "text": [
      "Downloading data files: 100%|██████████| 1/1 [00:00<00:00, 9300.01it/s]\n",
      "Extracting data files: 100%|██████████| 1/1 [00:00<00:00, 1501.18it/s]\n",
      "Generating train split: 150 examples [00:00, 38479.85 examples/s]\n"
     ]
    }
   ],
   "source": [
    "from datasets import load_dataset\n",
    "\n",
    "target_ds = load_dataset('json', data_files=\"wikipedia_passages_c400_jawiki_20230403.jsonl\", split=\"train\")\n",
    "\n",
    "for item in target_ds:\n",
    "    print(item)"
   ]
  },
  {
   "cell_type": "code",
   "execution_count": 1,
   "metadata": {},
   "outputs": [
    {
     "name": "stderr",
     "output_type": "stream",
     "text": [
      "/home/ubuntu/.cache/pypoetry/virtualenvs/llm-rag-kit-2uEd5D3k-py3.10/lib/python3.10/site-packages/tqdm/auto.py:21: TqdmWarning: IProgress not found. Please update jupyter and ipywidgets. See https://ipywidgets.readthedocs.io/en/stable/user_install.html\n",
      "  from .autonotebook import tqdm as notebook_tqdm\n"
     ]
    }
   ],
   "source": [
    "from sentence_transformers import SentenceTransformer\n",
    "from hf_hub_ctranslate2 import CT2SentenceTransformer\n",
    "\n",
    "\n",
    "MODEL = CT2SentenceTransformer(\"/home/ubuntu/llm-rag-kit/multilingual-e5-large\", compute_type=\"float16\")"
   ]
  },
  {
   "cell_type": "code",
   "execution_count": 3,
   "metadata": {},
   "outputs": [],
   "source": [
    "from datasets.download import DownloadManager\n",
    "from datasets import load_dataset\n",
    "from sentence_transformers import SentenceTransformer\n",
    "import faiss"
   ]
  },
  {
   "cell_type": "code",
   "execution_count": 4,
   "metadata": {},
   "outputs": [],
   "source": [
    "# データセットのロード\n",
    "wikija_dataset = load_dataset('json', data_files=\"wikipedia_passages_c400_jawiki_20230403.jsonl\", split=\"train\")\n",
    "index_local_path = \"./outputs/faiss_indexes/multilingual-e5-large-passage/index_IVF256_PQ64.faiss\"\n",
    "# faiss index のロード\n",
    "faiss_index = faiss.read_index(index_local_path)"
   ]
  },
  {
   "cell_type": "code",
   "execution_count": 6,
   "metadata": {},
   "outputs": [],
   "source": [
    "model = SentenceTransformer(\"/home/ubuntu/llm-rag-kit/multilingual-e5-large\")\n",
    "model.max_seq_length = 512"
   ]
  },
  {
   "cell_type": "code",
   "execution_count": 7,
   "metadata": {},
   "outputs": [],
   "source": [
    "def to_emb(model, text, prefix=\"query: \"):\n",
    "    return model.encode([prefix + text], normalize_embeddings=True)\n",
    "\n",
    "\n",
    "emb = to_emb(model, \"Apex Legendsで問題になった出来事は?\")"
   ]
  },
  {
   "cell_type": "code",
   "execution_count": 8,
   "metadata": {},
   "outputs": [
    {
     "name": "stdout",
     "output_type": "stream",
     "text": [
      "(0.45435277, '人工知能', 'Apex Legendsなどの人気ゲームに出演する声優のフリーダ・ウォルフは合意や追加の補償なしに自身の音声データを利用する搾取に繋がるとして懸念を表明したほか、フォートナイトなどの声優であるサラ・エ')\n",
      "(0.4594062, '音楽', '日本では、縄文時代から既に音楽が始まっていたが、5世紀から8世紀にかけて朝鮮半島・中国から音楽を取り入れたことからさまざまなジャンルの音楽が始まった。まず、平安時代に遣唐使を廃止して国風文化が栄えてい')\n",
      "(0.46018404, '日本語', '例えば以下の文体は、実際の性別・博士・令嬢・地方出身者などの一般的な位相を反映したものではないものの、小説・漫画・アニメ・ドラマなどで、仮想的にそれらしい感じを与える文体として広く観察される。これは現')\n",
      "(0.46510434, '日本語', 'そこで、文部省は新しい語法のうち一部慣用の久しいものを認め、「文法上許容スベキ事項」(1905年・明治38年)16条を告示した。一方、明治20年代頃から、二葉亭四迷・山田美妙ら文学者を中心に、書き言葉')\n",
      "(0.4653516, '日本語', '受け身の表現において、人物以外が主語になる例は、近代以前には乏しい。もともと、日本語の受け身表現は、自分の意志ではどうにもならない「自然生起」の用法の一種であった。したがって、物が受け身表現の主語にな')\n"
     ]
    }
   ],
   "source": [
    "TOP_K = 5\n",
    "scores, indexes = faiss_index.search(emb, TOP_K)\n",
    "for idx, (id, score) in enumerate(zip(indexes[0], scores[0])):\n",
    "    data = wikija_dataset[int(id)]\n",
    "    print((score, data[\"title\"], data[\"text\"][:100]))"
   ]
  }
 ],
 "metadata": {
  "kernelspec": {
   "display_name": "llm-rag-kit-2uEd5D3k-py3.10",
   "language": "python",
   "name": "python3"
  },
  "language_info": {
   "codemirror_mode": {
    "name": "ipython",
    "version": 3
   },
   "file_extension": ".py",
   "mimetype": "text/x-python",
   "name": "python",
   "nbconvert_exporter": "python",
   "pygments_lexer": "ipython3",
   "version": "3.10.12"
  }
 },
 "nbformat": 4,
 "nbformat_minor": 2
}
